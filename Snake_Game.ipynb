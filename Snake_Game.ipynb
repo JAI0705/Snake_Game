{
 "cells": [
  {
   "cell_type": "code",
   "execution_count": 1,
   "id": "91cd78b9-43a7-4a80-aac4-6dede9fe1ea4",
   "metadata": {},
   "outputs": [
    {
     "name": "stdout",
     "output_type": "stream",
     "text": [
      "pygame 2.5.2 (SDL 2.28.2, Python 3.10.12)\n",
      "Hello from the pygame community. https://www.pygame.org/contribute.html\n"
     ]
    }
   ],
   "source": [
    "import pygame,sys, random\n",
    "from pygame.math import Vector2\n",
    "from pygame import transform\n",
    "\n",
    "# TODO: Make the fruit look like a fruit."
   ]
  },
  {
   "cell_type": "code",
   "execution_count": 2,
   "id": "c23de5cc-9ae7-4997-8070-95b84bf86d1d",
   "metadata": {},
   "outputs": [],
   "source": [
    "class SNAKE:\n",
    "    def __init__(self):\n",
    "        self.body = [Vector2(5,10),Vector2(4,10),Vector2(3,10)]\n",
    "        self.direction = Vector2(0,0)\n",
    "        self.new_block = False\n",
    "\n",
    "    def draw_snake(self):\n",
    "        for block in self.body:\n",
    "            x_pos = int(block.x*cell_size)\n",
    "            y_pos = int(block.y*cell_size)\n",
    "            snake_rect = pygame.Rect(x_pos,y_pos,cell_size,cell_size)\n",
    "            pygame.draw.rect(screen,(255,100,100),snake_rect)\n",
    "\n",
    "    def move_snake(self):\n",
    "        if self.new_block == True:\n",
    "            body_copy = self.body[:]\n",
    "            body_copy.insert(0,body_copy[0] + self.direction)\n",
    "            self.body = body_copy[:]\n",
    "            self.new_block = False\n",
    "\n",
    "        else:\n",
    "            body_copy = self.body[:-1]\n",
    "        body_copy.insert(0,body_copy[0] + self.direction)\n",
    "        self.body = body_copy[:]\n",
    "\n",
    "    def addBlock(self):\n",
    "        self.new_block = True\n",
    "\n",
    "    def reset(self):\n",
    "        self.body = [Vector2(5,10),Vector2(4,10),Vector2(3,10)]\n",
    "        self.direction = Vector2(0,0)"
   ]
  },
  {
   "cell_type": "code",
   "execution_count": 3,
   "id": "4642a8a6-30d3-4be2-84a8-f2d6bc9afad3",
   "metadata": {},
   "outputs": [],
   "source": [
    "class FRUIT:\n",
    "    def __init__(self):\n",
    "        self.randomize()\n",
    "    def draw_fruit(self):\n",
    "        # cretae x and y position\n",
    "        fruit_rect  = pygame.Rect(int(self.pos.x*cell_size),int(self.pos.y*cell_size),cell_size,cell_size)\n",
    "        # draw the rectangle\n",
    "        #screen.blit(apple,fruit_rect)\n",
    "        pygame.draw.rect(screen,(126,166,114),fruit_rect)\n",
    "\n",
    "    def randomize(self):\n",
    "        self.x = random.randint(0,cell_number-1)\n",
    "        self.y = random.randint(0,cell_number-1)\n",
    "        self.pos= Vector2(self.x,self.y)      \n",
    "        \n",
    "       "
   ]
  },
  {
   "cell_type": "code",
   "execution_count": 4,
   "id": "3de82f22-c5c3-4915-bc1d-eb1ef1f2eeaa",
   "metadata": {},
   "outputs": [],
   "source": [
    "class Main:\n",
    "    def __init__(self):\n",
    "        self.snake = SNAKE()\n",
    "        self.fruit = FRUIT()\n",
    "\n",
    "    def update(self):\n",
    "         self.snake.move_snake()\n",
    "         self.check_collision()\n",
    "         self.check_fail()\n",
    "\n",
    "    def draw_elements(self):\n",
    "        self.draw_grass()\n",
    "        self.fruit.draw_fruit()\n",
    "        self.snake.draw_snake()\n",
    "        self.draw_score()\n",
    "\n",
    "    def check_collision(self):\n",
    "        if self.fruit.pos == self.snake.body[0]:\n",
    "            # Reposition the fruit\n",
    "            self.fruit.randomize()\n",
    "            # Add another block to snake.\n",
    "            self.snake.addBlock()\n",
    "\n",
    "        for block in self.snake.body[1:]:\n",
    "            if block == self.fruit.pos:\n",
    "                self.fruit.randomize()\n",
    "\n",
    "    def check_fail(self):\n",
    "        # check if snake is outside of screen\n",
    "        if not 0 <= self.snake.body[0].x < cell_number or not 0 <= self.snake.body[0].y < cell_number:\n",
    "            print(\"Game Over!\")\n",
    "            self.gameOver()\n",
    "        # check if snake hits itself\n",
    "        for block in self.snake.body[1:]:\n",
    "            if block == self.snake.body[0]:\n",
    "                print(\"Game Over!\")\n",
    "                self.gameOver()\n",
    "\n",
    "    def gameOver(self):\n",
    "         self.snake.reset()\n",
    "\n",
    "    def draw_grass(self):\n",
    "        grass_color= (167,209,61)\n",
    "        for row in range(cell_number):\n",
    "            if row %2==0:\n",
    "                for col in range(cell_number):\n",
    "                    if col%2==0:\n",
    "                        grass_rect = pygame.Rect(col*cell_size,row*cell_size,cell_size,cell_size)\n",
    "                        pygame.draw.rect(screen,grass_color,grass_rect)\n",
    "            else:\n",
    "                for col in range(cell_number):\n",
    "                    if col%2!=0:\n",
    "                        grass_rect = pygame.Rect(col*cell_size,row*cell_size,cell_size,cell_size)\n",
    "                        pygame.draw.rect(screen,grass_color,grass_rect)\n",
    "\n",
    "    def draw_score(self):\n",
    "        score_text = str(len(self.snake.body) -3)\n",
    "        score_surface = game_font.render(score_text,True,(56,74,12))\n",
    "        score_x = int(cell_number*cell_size -60)\n",
    "        score_y = int(cell_number*cell_size -40)\n",
    "        score_rect = score_surface.get_rect(center=(score_x,score_y))\n",
    "        screen.blit(score_surface,score_rect)\n",
    "        \n",
    "        "
   ]
  },
  {
   "cell_type": "code",
   "execution_count": 5,
   "id": "8e59add3-23c7-4b04-906b-7db1df888c0c",
   "metadata": {},
   "outputs": [
    {
     "data": {
      "text/plain": [
       "(5, 0)"
      ]
     },
     "execution_count": 5,
     "metadata": {},
     "output_type": "execute_result"
    }
   ],
   "source": [
    "pygame.init()"
   ]
  },
  {
   "cell_type": "code",
   "execution_count": 6,
   "id": "bfba5381-a24a-4d73-9938-a829f2bce6a8",
   "metadata": {},
   "outputs": [
    {
     "name": "stdout",
     "output_type": "stream",
     "text": [
      "Game Over!\n",
      "Game Over!\n",
      "Game Over!\n",
      "Game Over!\n",
      "Game Over!\n",
      "Game Over!\n",
      "Game Over!\n",
      "Game Over!\n",
      "Game Over!\n",
      "Game Over!\n",
      "Game Over!\n",
      "Game Over!\n",
      "Game Over!\n",
      "Game Over!\n",
      "Game Over!\n",
      "Game Over!\n",
      "Game Over!\n",
      "Game Over!\n",
      "Game Over!\n",
      "Game Over!\n",
      "Game Over!\n",
      "Game Over!\n",
      "Game Over!\n",
      "Game Over!\n",
      "Game Over!\n",
      "Game Over!\n",
      "Game Over!\n",
      "Game Over!\n",
      "Game Over!\n",
      "Game Over!\n",
      "Game Over!\n",
      "Game Over!\n",
      "Game Over!\n",
      "Game Over!\n",
      "Game Over!\n",
      "Game Over!\n",
      "Game Over!\n",
      "Game Over!\n"
     ]
    },
    {
     "ename": "SystemExit",
     "evalue": "",
     "output_type": "error",
     "traceback": [
      "An exception has occurred, use %tb to see the full traceback.\n",
      "\u001b[0;31mSystemExit\u001b[0m\n"
     ]
    },
    {
     "name": "stderr",
     "output_type": "stream",
     "text": [
      "/home/jai/.local/lib/python3.10/site-packages/IPython/core/interactiveshell.py:3585: UserWarning: To exit: use 'exit', 'quit', or Ctrl-D.\n",
      "  warn(\"To exit: use 'exit', 'quit', or Ctrl-D.\", stacklevel=1)\n"
     ]
    }
   ],
   "source": [
    "cell_size = 40\n",
    "cell_number = 20\n",
    "screen = pygame.display.set_mode((cell_number*cell_size, cell_number*cell_size))\n",
    "clock = pygame.time.Clock()\n",
    "game_font = pygame.font.Font(None,25)\n",
    "# apple = pygame.image.load('/home/jai/Desktop/Projects/Green_apple.png').convert()\n",
    "# apple = pygame.transform.scale(apple, (cell_number*cell_size, cell_number*cell_size))\n",
    "\n",
    "\n",
    "SCREEN_UPDATE = pygame.USEREVENT\n",
    "pygame.time.set_timer(SCREEN_UPDATE,150)\n",
    "\n",
    "main_game = Main()\n",
    "\n",
    "while True:\n",
    "    # draw all our elements.\n",
    "    for event in pygame.event.get():\n",
    "        if event.type == pygame.QUIT:\n",
    "            pygame.quit()\n",
    "            sys.exit()\n",
    "        if event.type == SCREEN_UPDATE:\n",
    "            main_game.update()\n",
    "        if event.type == pygame.KEYDOWN:\n",
    "            if event.key == pygame.K_UP:\n",
    "                if main_game.snake.direction.y != 1:\n",
    "                    main_game.snake.direction = Vector2(0,-1)\n",
    "            if event.key == pygame.K_DOWN:\n",
    "                if main_game.snake.direction.y != -1:\n",
    "                    main_game.snake.direction = Vector2(0,1)\n",
    "            if event.key == pygame.K_RIGHT:\n",
    "                if main_game.snake.direction.x != -1:\n",
    "                    main_game.snake.direction = Vector2(1,0)\n",
    "            if event.key == pygame.K_LEFT:\n",
    "                if main_game.snake.direction.x != 1:\n",
    "                    main_game.snake.direction = Vector2(-1,0)\n",
    "\n",
    "    # screen.blit(apple,(0,0))\n",
    "            \n",
    "    screen.fill((175,215,70))  \n",
    "    main_game.draw_elements()\n",
    "    pygame.display.update()\n",
    "    clock.tick(60)"
   ]
  }
 ],
 "metadata": {
  "kernelspec": {
   "display_name": "Python 3 (ipykernel)",
   "language": "python",
   "name": "python3"
  },
  "language_info": {
   "codemirror_mode": {
    "name": "ipython",
    "version": 3
   },
   "file_extension": ".py",
   "mimetype": "text/x-python",
   "name": "python",
   "nbconvert_exporter": "python",
   "pygments_lexer": "ipython3",
   "version": "3.10.12"
  }
 },
 "nbformat": 4,
 "nbformat_minor": 5
}
